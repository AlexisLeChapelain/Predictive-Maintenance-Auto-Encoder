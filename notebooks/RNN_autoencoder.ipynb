{
 "cells": [
  {
   "cell_type": "markdown",
   "metadata": {},
   "source": [
    "### Import packages"
   ]
  },
  {
   "cell_type": "code",
   "execution_count": 1,
   "metadata": {},
   "outputs": [],
   "source": [
    "import warnings\n",
    "warnings.filterwarnings(\"ignore\")\n",
    "import pandas as pd\n",
    "import numpy as np\n",
    "import matplotlib.pyplot as plt\n",
    "import tensorflow as tf \n",
    "import math"
   ]
  },
  {
   "cell_type": "code",
   "execution_count": 2,
   "metadata": {},
   "outputs": [
    {
     "name": "stderr",
     "output_type": "stream",
     "text": [
      "Using TensorFlow backend.\n"
     ]
    }
   ],
   "source": [
    "from keras.layers import Bidirectional, Concatenate, Permute, Dot, Input, LSTM, Multiply\n",
    "from keras.layers import RepeatVector, Dense, Activation, Lambda\n",
    "from keras.optimizers import Adam\n",
    "from keras.utils import to_categorical\n",
    "from keras.models import load_model, Model\n",
    "from keras.activations import softmax\n",
    "import keras.backend as K"
   ]
  },
  {
   "cell_type": "code",
   "execution_count": 9,
   "metadata": {},
   "outputs": [],
   "source": [
    "import os \n",
    "os.chdir(\"/users/az02234/Documents/Projets_Renault/PredictiveMaintenance/PredictiveMaintenanceAutoEncoder/data/interim/\")"
   ]
  },
  {
   "cell_type": "markdown",
   "metadata": {},
   "source": [
    "### Loading data"
   ]
  },
  {
   "cell_type": "code",
   "execution_count": 10,
   "metadata": {},
   "outputs": [],
   "source": [
    "data = pd.read_csv(\"data_dl.csv\",  dtype={'dataValue': np.float64, 'pji': np.int64}, parse_dates=['sourceTimestamp_dtformat'])"
   ]
  },
  {
   "cell_type": "code",
   "execution_count": 11,
   "metadata": {},
   "outputs": [
    {
     "data": {
      "text/html": [
       "<div>\n",
       "<style scoped>\n",
       "    .dataframe tbody tr th:only-of-type {\n",
       "        vertical-align: middle;\n",
       "    }\n",
       "\n",
       "    .dataframe tbody tr th {\n",
       "        vertical-align: top;\n",
       "    }\n",
       "\n",
       "    .dataframe thead th {\n",
       "        text-align: right;\n",
       "    }\n",
       "</style>\n",
       "<table border=\"1\" class=\"dataframe\">\n",
       "  <thead>\n",
       "    <tr style=\"text-align: right;\">\n",
       "      <th></th>\n",
       "      <th>0</th>\n",
       "      <th>1</th>\n",
       "      <th>2</th>\n",
       "      <th>3</th>\n",
       "      <th>4</th>\n",
       "    </tr>\n",
       "  </thead>\n",
       "  <tbody>\n",
       "    <tr>\n",
       "      <th>dataValue</th>\n",
       "      <td>519</td>\n",
       "      <td>230</td>\n",
       "      <td>203</td>\n",
       "      <td>238</td>\n",
       "      <td>231</td>\n",
       "    </tr>\n",
       "    <tr>\n",
       "      <th>pji</th>\n",
       "      <td>1411188</td>\n",
       "      <td>1411188</td>\n",
       "      <td>1411188</td>\n",
       "      <td>1411188</td>\n",
       "      <td>1411188</td>\n",
       "    </tr>\n",
       "    <tr>\n",
       "      <th>sourceTimestamp_dtformat</th>\n",
       "      <td>2019-04-02 11:33:31.609000</td>\n",
       "      <td>2019-04-02 11:33:31.812000</td>\n",
       "      <td>2019-04-02 11:33:32.015000</td>\n",
       "      <td>2019-04-02 11:33:32.125000</td>\n",
       "      <td>2019-04-02 11:33:32.218000</td>\n",
       "    </tr>\n",
       "  </tbody>\n",
       "</table>\n",
       "</div>"
      ],
      "text/plain": [
       "                                                   0  \\\n",
       "dataValue                                        519   \n",
       "pji                                          1411188   \n",
       "sourceTimestamp_dtformat  2019-04-02 11:33:31.609000   \n",
       "\n",
       "                                                   1  \\\n",
       "dataValue                                        230   \n",
       "pji                                          1411188   \n",
       "sourceTimestamp_dtformat  2019-04-02 11:33:31.812000   \n",
       "\n",
       "                                                   2  \\\n",
       "dataValue                                        203   \n",
       "pji                                          1411188   \n",
       "sourceTimestamp_dtformat  2019-04-02 11:33:32.015000   \n",
       "\n",
       "                                                   3  \\\n",
       "dataValue                                        238   \n",
       "pji                                          1411188   \n",
       "sourceTimestamp_dtformat  2019-04-02 11:33:32.125000   \n",
       "\n",
       "                                                   4  \n",
       "dataValue                                        231  \n",
       "pji                                          1411188  \n",
       "sourceTimestamp_dtformat  2019-04-02 11:33:32.218000  "
      ]
     },
     "execution_count": 11,
     "metadata": {},
     "output_type": "execute_result"
    }
   ],
   "source": [
    "data.head().T"
   ]
  },
  {
   "cell_type": "markdown",
   "metadata": {},
   "source": [
    "### Reshaping data"
   ]
  },
  {
   "cell_type": "markdown",
   "metadata": {},
   "source": [
    "Step 1 : transform time stamp into a normalized numerical vector\n",
    "\n",
    "Step 2 : transform dataValue serie into a list of list, one for each vehicle, with padding to reach maximum serie length. Each value is made of three element: timestamp, time since previous element, value"
   ]
  },
  {
   "cell_type": "code",
   "execution_count": 12,
   "metadata": {},
   "outputs": [],
   "source": [
    "def compute_max_sequence_length(dataframe):\n",
    "    lengths = dataframe.groupby(\"pji\").count()\n",
    "    max_length = lengths.max()[0]\n",
    "    return max_length"
   ]
  },
  {
   "cell_type": "code",
   "execution_count": 13,
   "metadata": {},
   "outputs": [],
   "source": [
    "exemple = data[0:5000]"
   ]
  },
  {
   "cell_type": "code",
   "execution_count": 14,
   "metadata": {},
   "outputs": [
    {
     "name": "stdout",
     "output_type": "stream",
     "text": [
      "281\n"
     ]
    }
   ],
   "source": [
    "max_length = compute_max_sequence_length(exemple)\n",
    "print(max_length)"
   ]
  },
  {
   "cell_type": "code",
   "execution_count": 15,
   "metadata": {},
   "outputs": [],
   "source": [
    "exemple[\"micro_second\"] = exemple.sourceTimestamp_dtformat.dt.microsecond \\\n",
    "                          + exemple.sourceTimestamp_dtformat.dt.second*1000 \\\n",
    "                          + exemple.sourceTimestamp_dtformat.dt.minute*1000*60 \\\n",
    "                          + exemple.sourceTimestamp_dtformat.dt.hour*1000*60*60 \\\n",
    "                          + exemple.sourceTimestamp_dtformat.dt.day*1000*60*60*24"
   ]
  },
  {
   "cell_type": "code",
   "execution_count": 16,
   "metadata": {},
   "outputs": [],
   "source": [
    "def normalise(dataframe):\n",
    "    dataframe[\"micro_second\"] = dataframe[\"micro_second\"]/1000\n",
    "    dataframe[\"normalized_time\"] = (dataframe[\"micro_second\"] - dataframe[\"micro_second\"].min()) / dataframe[\"micro_second\"].max()\n",
    "    return dataframe"
   ]
  },
  {
   "cell_type": "code",
   "execution_count": 17,
   "metadata": {},
   "outputs": [],
   "source": [
    "def compute_lag(dataframe):\n",
    "    dataframe.sort_values(by=[\"normalized_time\"], inplace=True)\n",
    "    dataframe['interval'] = dataframe[\"micro_second\"] - dataframe[\"micro_second\"].shift()\n",
    "    return dataframe"
   ]
  },
  {
   "cell_type": "code",
   "execution_count": 18,
   "metadata": {},
   "outputs": [],
   "source": [
    "exemple = exemple.groupby(\"pji\").apply(normalise)\n",
    "exemple = exemple.groupby(\"pji\").apply(compute_lag)\n",
    "exemple = exemple.reset_index(drop=True)\n",
    "exemple = exemple.fillna(0)"
   ]
  },
  {
   "cell_type": "code",
   "execution_count": 19,
   "metadata": {},
   "outputs": [
    {
     "data": {
      "text/html": [
       "<div>\n",
       "<style scoped>\n",
       "    .dataframe tbody tr th:only-of-type {\n",
       "        vertical-align: middle;\n",
       "    }\n",
       "\n",
       "    .dataframe tbody tr th {\n",
       "        vertical-align: top;\n",
       "    }\n",
       "\n",
       "    .dataframe thead th {\n",
       "        text-align: right;\n",
       "    }\n",
       "</style>\n",
       "<table border=\"1\" class=\"dataframe\">\n",
       "  <thead>\n",
       "    <tr style=\"text-align: right;\">\n",
       "      <th></th>\n",
       "      <th>dataValue</th>\n",
       "      <th>pji</th>\n",
       "      <th>sourceTimestamp_dtformat</th>\n",
       "      <th>micro_second</th>\n",
       "      <th>normalized_time</th>\n",
       "      <th>interval</th>\n",
       "    </tr>\n",
       "  </thead>\n",
       "  <tbody>\n",
       "    <tr>\n",
       "      <th>0</th>\n",
       "      <td>248.0</td>\n",
       "      <td>1130047</td>\n",
       "      <td>2019-04-04 05:56:15.078</td>\n",
       "      <td>367053.0</td>\n",
       "      <td>0.000000</td>\n",
       "      <td>0.0</td>\n",
       "    </tr>\n",
       "    <tr>\n",
       "      <th>1</th>\n",
       "      <td>245.0</td>\n",
       "      <td>1130047</td>\n",
       "      <td>2019-04-04 05:56:17.078</td>\n",
       "      <td>367055.0</td>\n",
       "      <td>0.000005</td>\n",
       "      <td>2.0</td>\n",
       "    </tr>\n",
       "    <tr>\n",
       "      <th>2</th>\n",
       "      <td>254.0</td>\n",
       "      <td>1130047</td>\n",
       "      <td>2019-04-04 05:56:19.078</td>\n",
       "      <td>367057.0</td>\n",
       "      <td>0.000011</td>\n",
       "      <td>2.0</td>\n",
       "    </tr>\n",
       "    <tr>\n",
       "      <th>3</th>\n",
       "      <td>312.0</td>\n",
       "      <td>1130047</td>\n",
       "      <td>2019-04-04 05:56:21.078</td>\n",
       "      <td>367059.0</td>\n",
       "      <td>0.000016</td>\n",
       "      <td>2.0</td>\n",
       "    </tr>\n",
       "    <tr>\n",
       "      <th>4</th>\n",
       "      <td>504.0</td>\n",
       "      <td>1130047</td>\n",
       "      <td>2019-04-04 05:56:25.078</td>\n",
       "      <td>367063.0</td>\n",
       "      <td>0.000027</td>\n",
       "      <td>4.0</td>\n",
       "    </tr>\n",
       "  </tbody>\n",
       "</table>\n",
       "</div>"
      ],
      "text/plain": [
       "   dataValue      pji sourceTimestamp_dtformat  micro_second  normalized_time  \\\n",
       "0      248.0  1130047  2019-04-04 05:56:15.078      367053.0         0.000000   \n",
       "1      245.0  1130047  2019-04-04 05:56:17.078      367055.0         0.000005   \n",
       "2      254.0  1130047  2019-04-04 05:56:19.078      367057.0         0.000011   \n",
       "3      312.0  1130047  2019-04-04 05:56:21.078      367059.0         0.000016   \n",
       "4      504.0  1130047  2019-04-04 05:56:25.078      367063.0         0.000027   \n",
       "\n",
       "   interval  \n",
       "0       0.0  \n",
       "1       2.0  \n",
       "2       2.0  \n",
       "3       2.0  \n",
       "4       4.0  "
      ]
     },
     "execution_count": 19,
     "metadata": {},
     "output_type": "execute_result"
    }
   ],
   "source": [
    "exemple.head()"
   ]
  },
  {
   "cell_type": "code",
   "execution_count": 20,
   "metadata": {},
   "outputs": [],
   "source": [
    "data_for_dl = []\n",
    "for vehicle_id in exemple.pji.drop_duplicates():\n",
    "    # select vehicle data \n",
    "    selector = (exemple.pji == vehicle_id)\n",
    "    vehicle_data = exemple.loc[selector, ['dataValue', 'normalized_time', 'interval']]\n",
    "    \n",
    "    # compute length of the padding\n",
    "    padding_length = 287 - vehicle_data.shape[0]\n",
    "    \n",
    "    # add padding\n",
    "    pad = (np.repeat( np.array([0,1,0]).reshape(-1,1), padding_length, axis=1)).T\n",
    "    vehicle_data = np.vstack((vehicle_data, pad))\n",
    "    \n",
    "    # Append to final array\n",
    "    data_for_dl.append(list(vehicle_data))"
   ]
  },
  {
   "cell_type": "code",
   "execution_count": 21,
   "metadata": {},
   "outputs": [],
   "source": [
    "data_for_dl = np.array(data_for_dl)"
   ]
  },
  {
   "cell_type": "code",
   "execution_count": 22,
   "metadata": {},
   "outputs": [
    {
     "data": {
      "text/plain": [
       "(19, 287, 3)"
      ]
     },
     "execution_count": 22,
     "metadata": {},
     "output_type": "execute_result"
    }
   ],
   "source": [
    "data_for_dl.shape"
   ]
  },
  {
   "cell_type": "code",
   "execution_count": 23,
   "metadata": {},
   "outputs": [
    {
     "data": {
      "text/plain": [
       "(3,)"
      ]
     },
     "execution_count": 23,
     "metadata": {},
     "output_type": "execute_result"
    }
   ],
   "source": [
    "data_for_dl[0][0].shape"
   ]
  },
  {
   "cell_type": "code",
   "execution_count": 24,
   "metadata": {},
   "outputs": [
    {
     "data": {
      "text/plain": [
       "(287, 3)"
      ]
     },
     "execution_count": 24,
     "metadata": {},
     "output_type": "execute_result"
    }
   ],
   "source": [
    "data_for_dl[0].shape"
   ]
  },
  {
   "cell_type": "markdown",
   "metadata": {},
   "source": [
    "### Create pseudo-target"
   ]
  },
  {
   "cell_type": "markdown",
   "metadata": {},
   "source": [
    "step 1 : Divide each time serie in ten slice\n",
    "\n",
    "step 2 : Compute mean / median / standard deviation / first and third quartile\n",
    "\n",
    "step 3 : Reshuffle each new serie in the same way"
   ]
  },
  {
   "cell_type": "code",
   "execution_count": 25,
   "metadata": {},
   "outputs": [],
   "source": [
    "## To be optimized : first build a complete vector of block id and then concatenate it rather than doing multiple\n",
    "## select within the df \n",
    "def build_block(exemple, vehicle_id, num_block=10):\n",
    "    exemple.sort_values(by=['pji', 'normalized_time'], inplace=True)\n",
    "    selector = (exemple.pji == vehicle_id)\n",
    "    vehicle_data = exemple[selector]\n",
    "    length = vehicle_data.shape[0]\n",
    "    vehicle_data[\"block\"] = 0\n",
    "    index_block = vehicle_data.columns.get_loc(\"block\")\n",
    "    for i in range(num_block):\n",
    "        if i < 9:\n",
    "            vehicle_data.iloc[math.floor(length/num_block) *(i): math.floor(length/num_block) *(i+1),index_block] = i\n",
    "        else:\n",
    "            vehicle_data.iloc[math.floor(length/num_block) *(i): length,index_block] = i\n",
    "    return vehicle_data"
   ]
  },
  {
   "cell_type": "code",
   "execution_count": 26,
   "metadata": {},
   "outputs": [],
   "source": [
    "def extract_stat_by_block(vehicle_data):\n",
    "    mean = np.around(vehicle_data.groupby(\"block\")[\"dataValue\"].mean())\n",
    "    std = np.around(vehicle_data.groupby(\"block\")[\"dataValue\"].std())\n",
    "    median = np.around(vehicle_data.groupby(\"block\")[\"dataValue\"].median())\n",
    "    first_quartile = np.around(vehicle_data.groupby(\"block\")[\"dataValue\"].quantile(0.25))\n",
    "    third_quartile = np.around(vehicle_data.groupby(\"block\")[\"dataValue\"].quantile(0.75))\n",
    "\n",
    "    target = pd.concat([mean, std, median, first_quartile, third_quartile], axis=0)\n",
    "    target.reset_index(drop=True, inplace=True)\n",
    "    #target = np.array(target).reshape(-1,1)\n",
    "    target = np.array(target)\n",
    "    return target"
   ]
  },
  {
   "cell_type": "code",
   "execution_count": 27,
   "metadata": {},
   "outputs": [],
   "source": [
    "def build_target(exemple, num_block=10):\n",
    "    target_list = []\n",
    "    shuffled_index = np.array(range(num_block*5))\n",
    "    np.random.shuffle(shuffled_index)\n",
    "    for vehicle_id in exemple.pji.drop_duplicates():\n",
    "        vehicle_data = build_block(exemple, vehicle_id, num_block=num_block)\n",
    "        target = extract_stat_by_block(vehicle_data)\n",
    "        target = target[shuffled_index.argsort()]\n",
    "        target_list.append(list(target))\n",
    "    target_list = np.array(target_list)\n",
    "    return target_list"
   ]
  },
  {
   "cell_type": "code",
   "execution_count": 28,
   "metadata": {},
   "outputs": [
    {
     "data": {
      "text/plain": [
       "(19, 50)"
      ]
     },
     "execution_count": 28,
     "metadata": {},
     "output_type": "execute_result"
    }
   ],
   "source": [
    "target_list = build_target(exemple, vehicle_id, num_block=10)\n",
    "target_list.shape"
   ]
  },
  {
   "cell_type": "markdown",
   "metadata": {},
   "source": [
    "### Create encoder"
   ]
  },
  {
   "cell_type": "code",
   "execution_count": 29,
   "metadata": {},
   "outputs": [],
   "source": [
    "Ty = 50\n",
    "Tx = 287\n",
    "nhs_lstm1 = 16"
   ]
  },
  {
   "cell_type": "code",
   "execution_count": 30,
   "metadata": {},
   "outputs": [],
   "source": [
    "# Defined shared layers as global variables\n",
    "repeator = RepeatVector(Tx)\n",
    "concatenator = Concatenate(axis=-1)\n",
    "densor1 = Dense(10, activation = \"relu\")\n",
    "densor2 = Dense(1, activation = \"relu\")\n",
    "activator = Activation(softmax, name='attention_weights') # We are using a custom softmax(axis = 1) loaded in this notebook\n",
    "dotor = Dot(axes = 1)"
   ]
  },
  {
   "cell_type": "code",
   "execution_count": 31,
   "metadata": {},
   "outputs": [],
   "source": [
    "def one_step_attention(a, s_prev):\n",
    "    \"\"\"\n",
    "    Performs one step of attention: Outputs a context vector computed as a dot product of the attention weights\n",
    "    \"alphas\" and the hidden states \"a\" of the Bi-LSTM.\n",
    "    \n",
    "    Arguments:\n",
    "    a -- hidden state output of the Bi-LSTM, numpy-array of shape (m, Tx, 2*n_a)\n",
    "    s_prev -- previous hidden state of the (post-attention) LSTM, numpy-array of shape (m, n_s)\n",
    "    \n",
    "    Returns:\n",
    "    context -- context vector, input of the next (post-attetion) LSTM cell\n",
    "    \"\"\"\n",
    "    \n",
    "    # Use repeator to repeat s_prev to be of shape (m, Tx, n_s) so that you can concatenate it with all hidden states \"a\" (≈ 1 line)\n",
    "    s_prev = repeator(s_prev)\n",
    "    # Use concatenator to concatenate a and s_prev on the last axis (≈ 1 line)\n",
    "    concat = concatenator([a,s_prev])\n",
    "    # Use densor1 to propagate concat through a small fully-connected neural network to compute the \"intermediate energies\" variable e. (≈1 lines)\n",
    "    e = densor1(concat)\n",
    "    # Use densor2 to propagate e through a small fully-connected neural network to compute the \"energies\" variable energies. (≈1 lines)\n",
    "    e = densor2(e)\n",
    "    # Use \"activator\" on \"energies\" to compute the attention weights \"alphas\" (≈ 1 line)\n",
    "    alphas = activator(e)\n",
    "    # Use dotor together with \"alphas\" and \"a\" to compute the context vector to be given to the next (post-attention) LSTM-cell (≈ 1 line)\n",
    "    context = dotor([alphas,a])\n",
    "    \n",
    "    return context"
   ]
  },
  {
   "cell_type": "code",
   "execution_count": 32,
   "metadata": {},
   "outputs": [],
   "source": [
    "n_a = 16\n",
    "n_s = 32\n",
    "m = 19\n",
    "post_activation_LSTM_cell = LSTM(n_s, return_state = True)\n",
    "output_layer = Dense(1, activation='relu')"
   ]
  },
  {
   "cell_type": "code",
   "execution_count": 33,
   "metadata": {},
   "outputs": [],
   "source": [
    "def model_encoder(Tx, Ty, n_a, n_s):\n",
    "    \"\"\"\n",
    "    Arguments:\n",
    "    Tx -- length of the input sequence\n",
    "    Ty -- length of the output sequence\n",
    "    n_a -- hidden state size of the Bi-LSTM\n",
    "    n_s -- hidden state size of the post-attention LSTM\n",
    "    human_vocab_size -- size of the python dictionary \"human_vocab\"\n",
    "    machine_vocab_size -- size of the python dictionary \"machine_vocab\"\n",
    "\n",
    "    Returns:\n",
    "    model -- Keras model instance\n",
    "    \"\"\"\n",
    "    \n",
    "    # Define the inputs of your model with a shape (Tx,)\n",
    "    # Define s0 and c0, initial hidden state for the decoder LSTM of shape (n_s,)\n",
    "    X = Input(shape=(Tx, 3))\n",
    "    s0 = Input(shape=(n_s,), name='s0')\n",
    "    c0 = Input(shape=(n_s,), name='c0')\n",
    "    s = s0\n",
    "    c = c0\n",
    "    \n",
    "    # Initialize empty list of outputs\n",
    "    outputs = []\n",
    "\n",
    "    # Step 1: Define your pre-attention Bi-LSTM. Remember to use return_sequences=True. (≈ 1 line)\n",
    "    a = Bidirectional(LSTM(n_a,return_sequences=True))(X)\n",
    "    \n",
    "    # Step 2: Iterate for Ty steps\n",
    "    for t in range(Ty):\n",
    "    \n",
    "        # Step 2.A: Perform one step of the attention mechanism to get back the context vector at step t (≈ 1 line)\n",
    "        context = one_step_attention(a, s)\n",
    "        \n",
    "        # Step 2.B: Apply the post-attention LSTM cell to the \"context\" vector.\n",
    "        # Don't forget to pass: initial_state = [hidden state, cell state] (≈ 1 line)\n",
    "        s, _, c = post_activation_LSTM_cell(context, initial_state = [s, c])\n",
    "        \n",
    "        # Step 2.C: Apply Dense layer to the hidden state output of the post-attention LSTM (≈ 1 line)\n",
    "        out = output_layer(s)\n",
    "        \n",
    "        # Step 2.D: Append \"out\" to the \"outputs\" list (≈ 1 line)\n",
    "        outputs.append(out)\n",
    "    \n",
    "    final_output = Concatenate(axis=-1)(outputs)\n",
    "    \n",
    "    # Step 3: Create model instance taking three inputs and returning the list of outputs. (≈ 1 line)\n",
    "    model = Model(inputs=[X, s0, c0], outputs=final_output)\n",
    "    \n",
    "    return model"
   ]
  },
  {
   "cell_type": "code",
   "execution_count": 34,
   "metadata": {},
   "outputs": [],
   "source": [
    "model_encoder = model_encoder(Tx, Ty, n_a, n_s)"
   ]
  },
  {
   "cell_type": "code",
   "execution_count": 35,
   "metadata": {},
   "outputs": [
    {
     "name": "stdout",
     "output_type": "stream",
     "text": [
      "__________________________________________________________________________________________________\n",
      "Layer (type)                    Output Shape         Param #     Connected to                     \n",
      "==================================================================================================\n",
      "input_1 (InputLayer)            (None, 287, 3)       0                                            \n",
      "__________________________________________________________________________________________________\n",
      "s0 (InputLayer)                 (None, 32)           0                                            \n",
      "__________________________________________________________________________________________________\n",
      "bidirectional_1 (Bidirectional) (None, 287, 32)      2560        input_1[0][0]                    \n",
      "__________________________________________________________________________________________________\n",
      "repeat_vector_1 (RepeatVector)  (None, 287, 32)      0           s0[0][0]                         \n",
      "                                                                 lstm_1[0][0]                     \n",
      "                                                                 lstm_1[1][0]                     \n",
      "                                                                 lstm_1[2][0]                     \n",
      "                                                                 lstm_1[3][0]                     \n",
      "                                                                 lstm_1[4][0]                     \n",
      "                                                                 lstm_1[5][0]                     \n",
      "                                                                 lstm_1[6][0]                     \n",
      "                                                                 lstm_1[7][0]                     \n",
      "                                                                 lstm_1[8][0]                     \n",
      "                                                                 lstm_1[9][0]                     \n",
      "                                                                 lstm_1[10][0]                    \n",
      "                                                                 lstm_1[11][0]                    \n",
      "                                                                 lstm_1[12][0]                    \n",
      "                                                                 lstm_1[13][0]                    \n",
      "                                                                 lstm_1[14][0]                    \n",
      "                                                                 lstm_1[15][0]                    \n",
      "                                                                 lstm_1[16][0]                    \n",
      "                                                                 lstm_1[17][0]                    \n",
      "                                                                 lstm_1[18][0]                    \n",
      "                                                                 lstm_1[19][0]                    \n",
      "                                                                 lstm_1[20][0]                    \n",
      "                                                                 lstm_1[21][0]                    \n",
      "                                                                 lstm_1[22][0]                    \n",
      "                                                                 lstm_1[23][0]                    \n",
      "                                                                 lstm_1[24][0]                    \n",
      "                                                                 lstm_1[25][0]                    \n",
      "                                                                 lstm_1[26][0]                    \n",
      "                                                                 lstm_1[27][0]                    \n",
      "                                                                 lstm_1[28][0]                    \n",
      "                                                                 lstm_1[29][0]                    \n",
      "                                                                 lstm_1[30][0]                    \n",
      "                                                                 lstm_1[31][0]                    \n",
      "                                                                 lstm_1[32][0]                    \n",
      "                                                                 lstm_1[33][0]                    \n",
      "                                                                 lstm_1[34][0]                    \n",
      "                                                                 lstm_1[35][0]                    \n",
      "                                                                 lstm_1[36][0]                    \n",
      "                                                                 lstm_1[37][0]                    \n",
      "                                                                 lstm_1[38][0]                    \n",
      "                                                                 lstm_1[39][0]                    \n",
      "                                                                 lstm_1[40][0]                    \n",
      "                                                                 lstm_1[41][0]                    \n",
      "                                                                 lstm_1[42][0]                    \n",
      "                                                                 lstm_1[43][0]                    \n",
      "                                                                 lstm_1[44][0]                    \n",
      "                                                                 lstm_1[45][0]                    \n",
      "                                                                 lstm_1[46][0]                    \n",
      "                                                                 lstm_1[47][0]                    \n",
      "                                                                 lstm_1[48][0]                    \n",
      "__________________________________________________________________________________________________\n",
      "concatenate_1 (Concatenate)     (None, 287, 64)      0           bidirectional_1[0][0]            \n",
      "                                                                 repeat_vector_1[0][0]            \n",
      "                                                                 bidirectional_1[0][0]            \n",
      "                                                                 repeat_vector_1[1][0]            \n",
      "                                                                 bidirectional_1[0][0]            \n",
      "                                                                 repeat_vector_1[2][0]            \n",
      "                                                                 bidirectional_1[0][0]            \n",
      "                                                                 repeat_vector_1[3][0]            \n",
      "                                                                 bidirectional_1[0][0]            \n",
      "                                                                 repeat_vector_1[4][0]            \n",
      "                                                                 bidirectional_1[0][0]            \n",
      "                                                                 repeat_vector_1[5][0]            \n",
      "                                                                 bidirectional_1[0][0]            \n",
      "                                                                 repeat_vector_1[6][0]            \n",
      "                                                                 bidirectional_1[0][0]            \n",
      "                                                                 repeat_vector_1[7][0]            \n",
      "                                                                 bidirectional_1[0][0]            \n",
      "                                                                 repeat_vector_1[8][0]            \n",
      "                                                                 bidirectional_1[0][0]            \n",
      "                                                                 repeat_vector_1[9][0]            \n",
      "                                                                 bidirectional_1[0][0]            \n",
      "                                                                 repeat_vector_1[10][0]           \n",
      "                                                                 bidirectional_1[0][0]            \n",
      "                                                                 repeat_vector_1[11][0]           \n",
      "                                                                 bidirectional_1[0][0]            \n",
      "                                                                 repeat_vector_1[12][0]           \n",
      "                                                                 bidirectional_1[0][0]            \n",
      "                                                                 repeat_vector_1[13][0]           \n",
      "                                                                 bidirectional_1[0][0]            \n",
      "                                                                 repeat_vector_1[14][0]           \n",
      "                                                                 bidirectional_1[0][0]            \n",
      "                                                                 repeat_vector_1[15][0]           \n",
      "                                                                 bidirectional_1[0][0]            \n",
      "                                                                 repeat_vector_1[16][0]           \n",
      "                                                                 bidirectional_1[0][0]            \n",
      "                                                                 repeat_vector_1[17][0]           \n",
      "                                                                 bidirectional_1[0][0]            \n",
      "                                                                 repeat_vector_1[18][0]           \n",
      "                                                                 bidirectional_1[0][0]            \n",
      "                                                                 repeat_vector_1[19][0]           \n",
      "                                                                 bidirectional_1[0][0]            \n",
      "                                                                 repeat_vector_1[20][0]           \n",
      "                                                                 bidirectional_1[0][0]            \n",
      "                                                                 repeat_vector_1[21][0]           \n",
      "                                                                 bidirectional_1[0][0]            \n",
      "                                                                 repeat_vector_1[22][0]           \n",
      "                                                                 bidirectional_1[0][0]            \n",
      "                                                                 repeat_vector_1[23][0]           \n",
      "                                                                 bidirectional_1[0][0]            \n",
      "                                                                 repeat_vector_1[24][0]           \n",
      "                                                                 bidirectional_1[0][0]            \n",
      "                                                                 repeat_vector_1[25][0]           \n",
      "                                                                 bidirectional_1[0][0]            \n",
      "                                                                 repeat_vector_1[26][0]           \n",
      "                                                                 bidirectional_1[0][0]            \n",
      "                                                                 repeat_vector_1[27][0]           \n",
      "                                                                 bidirectional_1[0][0]            \n",
      "                                                                 repeat_vector_1[28][0]           \n",
      "                                                                 bidirectional_1[0][0]            \n",
      "                                                                 repeat_vector_1[29][0]           \n",
      "                                                                 bidirectional_1[0][0]            \n",
      "                                                                 repeat_vector_1[30][0]           \n",
      "                                                                 bidirectional_1[0][0]            \n",
      "                                                                 repeat_vector_1[31][0]           \n",
      "                                                                 bidirectional_1[0][0]            \n",
      "                                                                 repeat_vector_1[32][0]           \n",
      "                                                                 bidirectional_1[0][0]            \n",
      "                                                                 repeat_vector_1[33][0]           \n",
      "                                                                 bidirectional_1[0][0]            \n",
      "                                                                 repeat_vector_1[34][0]           \n",
      "                                                                 bidirectional_1[0][0]            \n",
      "                                                                 repeat_vector_1[35][0]           \n",
      "                                                                 bidirectional_1[0][0]            \n",
      "                                                                 repeat_vector_1[36][0]           \n",
      "                                                                 bidirectional_1[0][0]            \n",
      "                                                                 repeat_vector_1[37][0]           \n",
      "                                                                 bidirectional_1[0][0]            \n",
      "                                                                 repeat_vector_1[38][0]           \n",
      "                                                                 bidirectional_1[0][0]            \n",
      "                                                                 repeat_vector_1[39][0]           \n",
      "                                                                 bidirectional_1[0][0]            \n",
      "                                                                 repeat_vector_1[40][0]           \n",
      "                                                                 bidirectional_1[0][0]            \n",
      "                                                                 repeat_vector_1[41][0]           \n",
      "                                                                 bidirectional_1[0][0]            \n",
      "                                                                 repeat_vector_1[42][0]           \n",
      "                                                                 bidirectional_1[0][0]            \n",
      "                                                                 repeat_vector_1[43][0]           \n",
      "                                                                 bidirectional_1[0][0]            \n",
      "                                                                 repeat_vector_1[44][0]           \n",
      "                                                                 bidirectional_1[0][0]            \n",
      "                                                                 repeat_vector_1[45][0]           \n",
      "                                                                 bidirectional_1[0][0]            \n",
      "                                                                 repeat_vector_1[46][0]           \n",
      "                                                                 bidirectional_1[0][0]            \n",
      "                                                                 repeat_vector_1[47][0]           \n",
      "                                                                 bidirectional_1[0][0]            \n",
      "                                                                 repeat_vector_1[48][0]           \n",
      "                                                                 bidirectional_1[0][0]            \n",
      "                                                                 repeat_vector_1[49][0]           \n",
      "__________________________________________________________________________________________________\n",
      "dense_1 (Dense)                 (None, 287, 10)      650         concatenate_1[0][0]              \n",
      "                                                                 concatenate_1[1][0]              \n",
      "                                                                 concatenate_1[2][0]              \n",
      "                                                                 concatenate_1[3][0]              \n",
      "                                                                 concatenate_1[4][0]              \n",
      "                                                                 concatenate_1[5][0]              \n",
      "                                                                 concatenate_1[6][0]              \n",
      "                                                                 concatenate_1[7][0]              \n",
      "                                                                 concatenate_1[8][0]              \n",
      "                                                                 concatenate_1[9][0]              \n",
      "                                                                 concatenate_1[10][0]             \n",
      "                                                                 concatenate_1[11][0]             \n",
      "                                                                 concatenate_1[12][0]             \n",
      "                                                                 concatenate_1[13][0]             \n",
      "                                                                 concatenate_1[14][0]             \n",
      "                                                                 concatenate_1[15][0]             \n",
      "                                                                 concatenate_1[16][0]             \n",
      "                                                                 concatenate_1[17][0]             \n",
      "                                                                 concatenate_1[18][0]             \n",
      "                                                                 concatenate_1[19][0]             \n",
      "                                                                 concatenate_1[20][0]             \n",
      "                                                                 concatenate_1[21][0]             \n",
      "                                                                 concatenate_1[22][0]             \n",
      "                                                                 concatenate_1[23][0]             \n",
      "                                                                 concatenate_1[24][0]             \n",
      "                                                                 concatenate_1[25][0]             \n",
      "                                                                 concatenate_1[26][0]             \n",
      "                                                                 concatenate_1[27][0]             \n",
      "                                                                 concatenate_1[28][0]             \n",
      "                                                                 concatenate_1[29][0]             \n",
      "                                                                 concatenate_1[30][0]             \n",
      "                                                                 concatenate_1[31][0]             \n",
      "                                                                 concatenate_1[32][0]             \n",
      "                                                                 concatenate_1[33][0]             \n",
      "                                                                 concatenate_1[34][0]             \n",
      "                                                                 concatenate_1[35][0]             \n",
      "                                                                 concatenate_1[36][0]             \n",
      "                                                                 concatenate_1[37][0]             \n",
      "                                                                 concatenate_1[38][0]             \n",
      "                                                                 concatenate_1[39][0]             \n",
      "                                                                 concatenate_1[40][0]             \n",
      "                                                                 concatenate_1[41][0]             \n",
      "                                                                 concatenate_1[42][0]             \n",
      "                                                                 concatenate_1[43][0]             \n",
      "                                                                 concatenate_1[44][0]             \n",
      "                                                                 concatenate_1[45][0]             \n",
      "                                                                 concatenate_1[46][0]             \n",
      "                                                                 concatenate_1[47][0]             \n",
      "                                                                 concatenate_1[48][0]             \n",
      "                                                                 concatenate_1[49][0]             \n",
      "__________________________________________________________________________________________________\n",
      "dense_2 (Dense)                 (None, 287, 1)       11          dense_1[0][0]                    \n",
      "                                                                 dense_1[1][0]                    \n",
      "                                                                 dense_1[2][0]                    \n",
      "                                                                 dense_1[3][0]                    \n",
      "                                                                 dense_1[4][0]                    \n",
      "                                                                 dense_1[5][0]                    \n",
      "                                                                 dense_1[6][0]                    \n",
      "                                                                 dense_1[7][0]                    \n",
      "                                                                 dense_1[8][0]                    \n",
      "                                                                 dense_1[9][0]                    \n",
      "                                                                 dense_1[10][0]                   \n",
      "                                                                 dense_1[11][0]                   \n",
      "                                                                 dense_1[12][0]                   \n",
      "                                                                 dense_1[13][0]                   \n",
      "                                                                 dense_1[14][0]                   \n",
      "                                                                 dense_1[15][0]                   \n",
      "                                                                 dense_1[16][0]                   \n",
      "                                                                 dense_1[17][0]                   \n",
      "                                                                 dense_1[18][0]                   \n",
      "                                                                 dense_1[19][0]                   \n",
      "                                                                 dense_1[20][0]                   \n",
      "                                                                 dense_1[21][0]                   \n",
      "                                                                 dense_1[22][0]                   \n",
      "                                                                 dense_1[23][0]                   \n",
      "                                                                 dense_1[24][0]                   \n",
      "                                                                 dense_1[25][0]                   \n",
      "                                                                 dense_1[26][0]                   \n",
      "                                                                 dense_1[27][0]                   \n",
      "                                                                 dense_1[28][0]                   \n",
      "                                                                 dense_1[29][0]                   \n",
      "                                                                 dense_1[30][0]                   \n",
      "                                                                 dense_1[31][0]                   \n",
      "                                                                 dense_1[32][0]                   \n",
      "                                                                 dense_1[33][0]                   \n",
      "                                                                 dense_1[34][0]                   \n",
      "                                                                 dense_1[35][0]                   \n",
      "                                                                 dense_1[36][0]                   \n",
      "                                                                 dense_1[37][0]                   \n",
      "                                                                 dense_1[38][0]                   \n",
      "                                                                 dense_1[39][0]                   \n",
      "                                                                 dense_1[40][0]                   \n",
      "                                                                 dense_1[41][0]                   \n",
      "                                                                 dense_1[42][0]                   \n",
      "                                                                 dense_1[43][0]                   \n",
      "                                                                 dense_1[44][0]                   \n",
      "                                                                 dense_1[45][0]                   \n",
      "                                                                 dense_1[46][0]                   \n",
      "                                                                 dense_1[47][0]                   \n",
      "                                                                 dense_1[48][0]                   \n",
      "                                                                 dense_1[49][0]                   \n",
      "__________________________________________________________________________________________________\n",
      "attention_weights (Activation)  (None, 287, 1)       0           dense_2[0][0]                    \n",
      "                                                                 dense_2[1][0]                    \n",
      "                                                                 dense_2[2][0]                    \n",
      "                                                                 dense_2[3][0]                    \n",
      "                                                                 dense_2[4][0]                    \n",
      "                                                                 dense_2[5][0]                    \n",
      "                                                                 dense_2[6][0]                    \n",
      "                                                                 dense_2[7][0]                    \n",
      "                                                                 dense_2[8][0]                    \n",
      "                                                                 dense_2[9][0]                    \n",
      "                                                                 dense_2[10][0]                   \n",
      "                                                                 dense_2[11][0]                   \n",
      "                                                                 dense_2[12][0]                   \n",
      "                                                                 dense_2[13][0]                   \n",
      "                                                                 dense_2[14][0]                   \n",
      "                                                                 dense_2[15][0]                   \n",
      "                                                                 dense_2[16][0]                   \n",
      "                                                                 dense_2[17][0]                   \n",
      "                                                                 dense_2[18][0]                   \n",
      "                                                                 dense_2[19][0]                   \n",
      "                                                                 dense_2[20][0]                   \n",
      "                                                                 dense_2[21][0]                   \n",
      "                                                                 dense_2[22][0]                   \n",
      "                                                                 dense_2[23][0]                   \n",
      "                                                                 dense_2[24][0]                   \n",
      "                                                                 dense_2[25][0]                   \n",
      "                                                                 dense_2[26][0]                   \n",
      "                                                                 dense_2[27][0]                   \n",
      "                                                                 dense_2[28][0]                   \n",
      "                                                                 dense_2[29][0]                   \n",
      "                                                                 dense_2[30][0]                   \n",
      "                                                                 dense_2[31][0]                   \n",
      "                                                                 dense_2[32][0]                   \n",
      "                                                                 dense_2[33][0]                   \n",
      "                                                                 dense_2[34][0]                   \n",
      "                                                                 dense_2[35][0]                   \n",
      "                                                                 dense_2[36][0]                   \n",
      "                                                                 dense_2[37][0]                   \n",
      "                                                                 dense_2[38][0]                   \n",
      "                                                                 dense_2[39][0]                   \n",
      "                                                                 dense_2[40][0]                   \n",
      "                                                                 dense_2[41][0]                   \n",
      "                                                                 dense_2[42][0]                   \n",
      "                                                                 dense_2[43][0]                   \n",
      "                                                                 dense_2[44][0]                   \n",
      "                                                                 dense_2[45][0]                   \n",
      "                                                                 dense_2[46][0]                   \n",
      "                                                                 dense_2[47][0]                   \n",
      "                                                                 dense_2[48][0]                   \n",
      "                                                                 dense_2[49][0]                   \n",
      "__________________________________________________________________________________________________\n",
      "dot_1 (Dot)                     (None, 1, 32)        0           attention_weights[0][0]          \n",
      "                                                                 bidirectional_1[0][0]            \n",
      "                                                                 attention_weights[1][0]          \n",
      "                                                                 bidirectional_1[0][0]            \n",
      "                                                                 attention_weights[2][0]          \n",
      "                                                                 bidirectional_1[0][0]            \n",
      "                                                                 attention_weights[3][0]          \n",
      "                                                                 bidirectional_1[0][0]            \n",
      "                                                                 attention_weights[4][0]          \n",
      "                                                                 bidirectional_1[0][0]            \n",
      "                                                                 attention_weights[5][0]          \n",
      "                                                                 bidirectional_1[0][0]            \n",
      "                                                                 attention_weights[6][0]          \n",
      "                                                                 bidirectional_1[0][0]            \n",
      "                                                                 attention_weights[7][0]          \n",
      "                                                                 bidirectional_1[0][0]            \n",
      "                                                                 attention_weights[8][0]          \n",
      "                                                                 bidirectional_1[0][0]            \n",
      "                                                                 attention_weights[9][0]          \n",
      "                                                                 bidirectional_1[0][0]            \n",
      "                                                                 attention_weights[10][0]         \n",
      "                                                                 bidirectional_1[0][0]            \n",
      "                                                                 attention_weights[11][0]         \n",
      "                                                                 bidirectional_1[0][0]            \n",
      "                                                                 attention_weights[12][0]         \n",
      "                                                                 bidirectional_1[0][0]            \n",
      "                                                                 attention_weights[13][0]         \n",
      "                                                                 bidirectional_1[0][0]            \n",
      "                                                                 attention_weights[14][0]         \n",
      "                                                                 bidirectional_1[0][0]            \n",
      "                                                                 attention_weights[15][0]         \n",
      "                                                                 bidirectional_1[0][0]            \n",
      "                                                                 attention_weights[16][0]         \n",
      "                                                                 bidirectional_1[0][0]            \n",
      "                                                                 attention_weights[17][0]         \n",
      "                                                                 bidirectional_1[0][0]            \n",
      "                                                                 attention_weights[18][0]         \n",
      "                                                                 bidirectional_1[0][0]            \n",
      "                                                                 attention_weights[19][0]         \n",
      "                                                                 bidirectional_1[0][0]            \n",
      "                                                                 attention_weights[20][0]         \n",
      "                                                                 bidirectional_1[0][0]            \n",
      "                                                                 attention_weights[21][0]         \n",
      "                                                                 bidirectional_1[0][0]            \n",
      "                                                                 attention_weights[22][0]         \n",
      "                                                                 bidirectional_1[0][0]            \n",
      "                                                                 attention_weights[23][0]         \n",
      "                                                                 bidirectional_1[0][0]            \n",
      "                                                                 attention_weights[24][0]         \n",
      "                                                                 bidirectional_1[0][0]            \n",
      "                                                                 attention_weights[25][0]         \n",
      "                                                                 bidirectional_1[0][0]            \n",
      "                                                                 attention_weights[26][0]         \n",
      "                                                                 bidirectional_1[0][0]            \n",
      "                                                                 attention_weights[27][0]         \n",
      "                                                                 bidirectional_1[0][0]            \n",
      "                                                                 attention_weights[28][0]         \n",
      "                                                                 bidirectional_1[0][0]            \n",
      "                                                                 attention_weights[29][0]         \n",
      "                                                                 bidirectional_1[0][0]            \n",
      "                                                                 attention_weights[30][0]         \n",
      "                                                                 bidirectional_1[0][0]            \n",
      "                                                                 attention_weights[31][0]         \n",
      "                                                                 bidirectional_1[0][0]            \n",
      "                                                                 attention_weights[32][0]         \n",
      "                                                                 bidirectional_1[0][0]            \n",
      "                                                                 attention_weights[33][0]         \n",
      "                                                                 bidirectional_1[0][0]            \n",
      "                                                                 attention_weights[34][0]         \n",
      "                                                                 bidirectional_1[0][0]            \n",
      "                                                                 attention_weights[35][0]         \n",
      "                                                                 bidirectional_1[0][0]            \n",
      "                                                                 attention_weights[36][0]         \n",
      "                                                                 bidirectional_1[0][0]            \n",
      "                                                                 attention_weights[37][0]         \n",
      "                                                                 bidirectional_1[0][0]            \n",
      "                                                                 attention_weights[38][0]         \n",
      "                                                                 bidirectional_1[0][0]            \n",
      "                                                                 attention_weights[39][0]         \n",
      "                                                                 bidirectional_1[0][0]            \n",
      "                                                                 attention_weights[40][0]         \n",
      "                                                                 bidirectional_1[0][0]            \n",
      "                                                                 attention_weights[41][0]         \n",
      "                                                                 bidirectional_1[0][0]            \n",
      "                                                                 attention_weights[42][0]         \n",
      "                                                                 bidirectional_1[0][0]            \n",
      "                                                                 attention_weights[43][0]         \n",
      "                                                                 bidirectional_1[0][0]            \n",
      "                                                                 attention_weights[44][0]         \n",
      "                                                                 bidirectional_1[0][0]            \n",
      "                                                                 attention_weights[45][0]         \n",
      "                                                                 bidirectional_1[0][0]            \n",
      "                                                                 attention_weights[46][0]         \n",
      "                                                                 bidirectional_1[0][0]            \n",
      "                                                                 attention_weights[47][0]         \n",
      "                                                                 bidirectional_1[0][0]            \n",
      "                                                                 attention_weights[48][0]         \n",
      "                                                                 bidirectional_1[0][0]            \n",
      "                                                                 attention_weights[49][0]         \n",
      "                                                                 bidirectional_1[0][0]            \n",
      "__________________________________________________________________________________________________\n",
      "c0 (InputLayer)                 (None, 32)           0                                            \n",
      "__________________________________________________________________________________________________\n",
      "lstm_1 (LSTM)                   [(None, 32), (None,  8320        dot_1[0][0]                      \n",
      "                                                                 s0[0][0]                         \n",
      "                                                                 c0[0][0]                         \n",
      "                                                                 dot_1[1][0]                      \n",
      "                                                                 lstm_1[0][0]                     \n",
      "                                                                 lstm_1[0][2]                     \n",
      "                                                                 dot_1[2][0]                      \n",
      "                                                                 lstm_1[1][0]                     \n",
      "                                                                 lstm_1[1][2]                     \n",
      "                                                                 dot_1[3][0]                      \n",
      "                                                                 lstm_1[2][0]                     \n",
      "                                                                 lstm_1[2][2]                     \n",
      "                                                                 dot_1[4][0]                      \n",
      "                                                                 lstm_1[3][0]                     \n",
      "                                                                 lstm_1[3][2]                     \n",
      "                                                                 dot_1[5][0]                      \n",
      "                                                                 lstm_1[4][0]                     \n",
      "                                                                 lstm_1[4][2]                     \n",
      "                                                                 dot_1[6][0]                      \n",
      "                                                                 lstm_1[5][0]                     \n",
      "                                                                 lstm_1[5][2]                     \n",
      "                                                                 dot_1[7][0]                      \n",
      "                                                                 lstm_1[6][0]                     \n",
      "                                                                 lstm_1[6][2]                     \n",
      "                                                                 dot_1[8][0]                      \n",
      "                                                                 lstm_1[7][0]                     \n",
      "                                                                 lstm_1[7][2]                     \n",
      "                                                                 dot_1[9][0]                      \n",
      "                                                                 lstm_1[8][0]                     \n",
      "                                                                 lstm_1[8][2]                     \n",
      "                                                                 dot_1[10][0]                     \n",
      "                                                                 lstm_1[9][0]                     \n",
      "                                                                 lstm_1[9][2]                     \n",
      "                                                                 dot_1[11][0]                     \n",
      "                                                                 lstm_1[10][0]                    \n",
      "                                                                 lstm_1[10][2]                    \n",
      "                                                                 dot_1[12][0]                     \n",
      "                                                                 lstm_1[11][0]                    \n",
      "                                                                 lstm_1[11][2]                    \n",
      "                                                                 dot_1[13][0]                     \n",
      "                                                                 lstm_1[12][0]                    \n",
      "                                                                 lstm_1[12][2]                    \n",
      "                                                                 dot_1[14][0]                     \n",
      "                                                                 lstm_1[13][0]                    \n",
      "                                                                 lstm_1[13][2]                    \n",
      "                                                                 dot_1[15][0]                     \n",
      "                                                                 lstm_1[14][0]                    \n",
      "                                                                 lstm_1[14][2]                    \n",
      "                                                                 dot_1[16][0]                     \n",
      "                                                                 lstm_1[15][0]                    \n",
      "                                                                 lstm_1[15][2]                    \n",
      "                                                                 dot_1[17][0]                     \n",
      "                                                                 lstm_1[16][0]                    \n",
      "                                                                 lstm_1[16][2]                    \n",
      "                                                                 dot_1[18][0]                     \n",
      "                                                                 lstm_1[17][0]                    \n",
      "                                                                 lstm_1[17][2]                    \n",
      "                                                                 dot_1[19][0]                     \n",
      "                                                                 lstm_1[18][0]                    \n",
      "                                                                 lstm_1[18][2]                    \n",
      "                                                                 dot_1[20][0]                     \n",
      "                                                                 lstm_1[19][0]                    \n",
      "                                                                 lstm_1[19][2]                    \n",
      "                                                                 dot_1[21][0]                     \n",
      "                                                                 lstm_1[20][0]                    \n",
      "                                                                 lstm_1[20][2]                    \n",
      "                                                                 dot_1[22][0]                     \n",
      "                                                                 lstm_1[21][0]                    \n",
      "                                                                 lstm_1[21][2]                    \n",
      "                                                                 dot_1[23][0]                     \n",
      "                                                                 lstm_1[22][0]                    \n",
      "                                                                 lstm_1[22][2]                    \n",
      "                                                                 dot_1[24][0]                     \n",
      "                                                                 lstm_1[23][0]                    \n",
      "                                                                 lstm_1[23][2]                    \n",
      "                                                                 dot_1[25][0]                     \n",
      "                                                                 lstm_1[24][0]                    \n",
      "                                                                 lstm_1[24][2]                    \n",
      "                                                                 dot_1[26][0]                     \n",
      "                                                                 lstm_1[25][0]                    \n",
      "                                                                 lstm_1[25][2]                    \n",
      "                                                                 dot_1[27][0]                     \n",
      "                                                                 lstm_1[26][0]                    \n",
      "                                                                 lstm_1[26][2]                    \n",
      "                                                                 dot_1[28][0]                     \n",
      "                                                                 lstm_1[27][0]                    \n",
      "                                                                 lstm_1[27][2]                    \n",
      "                                                                 dot_1[29][0]                     \n",
      "                                                                 lstm_1[28][0]                    \n",
      "                                                                 lstm_1[28][2]                    \n",
      "                                                                 dot_1[30][0]                     \n",
      "                                                                 lstm_1[29][0]                    \n",
      "                                                                 lstm_1[29][2]                    \n",
      "                                                                 dot_1[31][0]                     \n",
      "                                                                 lstm_1[30][0]                    \n",
      "                                                                 lstm_1[30][2]                    \n",
      "                                                                 dot_1[32][0]                     \n",
      "                                                                 lstm_1[31][0]                    \n",
      "                                                                 lstm_1[31][2]                    \n",
      "                                                                 dot_1[33][0]                     \n",
      "                                                                 lstm_1[32][0]                    \n",
      "                                                                 lstm_1[32][2]                    \n",
      "                                                                 dot_1[34][0]                     \n",
      "                                                                 lstm_1[33][0]                    \n",
      "                                                                 lstm_1[33][2]                    \n",
      "                                                                 dot_1[35][0]                     \n",
      "                                                                 lstm_1[34][0]                    \n",
      "                                                                 lstm_1[34][2]                    \n",
      "                                                                 dot_1[36][0]                     \n",
      "                                                                 lstm_1[35][0]                    \n",
      "                                                                 lstm_1[35][2]                    \n",
      "                                                                 dot_1[37][0]                     \n",
      "                                                                 lstm_1[36][0]                    \n",
      "                                                                 lstm_1[36][2]                    \n",
      "                                                                 dot_1[38][0]                     \n",
      "                                                                 lstm_1[37][0]                    \n",
      "                                                                 lstm_1[37][2]                    \n",
      "                                                                 dot_1[39][0]                     \n",
      "                                                                 lstm_1[38][0]                    \n",
      "                                                                 lstm_1[38][2]                    \n",
      "                                                                 dot_1[40][0]                     \n",
      "                                                                 lstm_1[39][0]                    \n",
      "                                                                 lstm_1[39][2]                    \n",
      "                                                                 dot_1[41][0]                     \n",
      "                                                                 lstm_1[40][0]                    \n",
      "                                                                 lstm_1[40][2]                    \n",
      "                                                                 dot_1[42][0]                     \n",
      "                                                                 lstm_1[41][0]                    \n",
      "                                                                 lstm_1[41][2]                    \n",
      "                                                                 dot_1[43][0]                     \n",
      "                                                                 lstm_1[42][0]                    \n",
      "                                                                 lstm_1[42][2]                    \n",
      "                                                                 dot_1[44][0]                     \n",
      "                                                                 lstm_1[43][0]                    \n",
      "                                                                 lstm_1[43][2]                    \n",
      "                                                                 dot_1[45][0]                     \n",
      "                                                                 lstm_1[44][0]                    \n",
      "                                                                 lstm_1[44][2]                    \n",
      "                                                                 dot_1[46][0]                     \n",
      "                                                                 lstm_1[45][0]                    \n",
      "                                                                 lstm_1[45][2]                    \n",
      "                                                                 dot_1[47][0]                     \n",
      "                                                                 lstm_1[46][0]                    \n",
      "                                                                 lstm_1[46][2]                    \n",
      "                                                                 dot_1[48][0]                     \n",
      "                                                                 lstm_1[47][0]                    \n",
      "                                                                 lstm_1[47][2]                    \n",
      "                                                                 dot_1[49][0]                     \n",
      "                                                                 lstm_1[48][0]                    \n",
      "                                                                 lstm_1[48][2]                    \n",
      "__________________________________________________________________________________________________\n",
      "dense_3 (Dense)                 (None, 1)            33          lstm_1[0][0]                     \n",
      "                                                                 lstm_1[1][0]                     \n",
      "                                                                 lstm_1[2][0]                     \n",
      "                                                                 lstm_1[3][0]                     \n",
      "                                                                 lstm_1[4][0]                     \n",
      "                                                                 lstm_1[5][0]                     \n",
      "                                                                 lstm_1[6][0]                     \n",
      "                                                                 lstm_1[7][0]                     \n",
      "                                                                 lstm_1[8][0]                     \n",
      "                                                                 lstm_1[9][0]                     \n",
      "                                                                 lstm_1[10][0]                    \n",
      "                                                                 lstm_1[11][0]                    \n",
      "                                                                 lstm_1[12][0]                    \n",
      "                                                                 lstm_1[13][0]                    \n",
      "                                                                 lstm_1[14][0]                    \n",
      "                                                                 lstm_1[15][0]                    \n",
      "                                                                 lstm_1[16][0]                    \n",
      "                                                                 lstm_1[17][0]                    \n",
      "                                                                 lstm_1[18][0]                    \n",
      "                                                                 lstm_1[19][0]                    \n",
      "                                                                 lstm_1[20][0]                    \n",
      "                                                                 lstm_1[21][0]                    \n",
      "                                                                 lstm_1[22][0]                    \n",
      "                                                                 lstm_1[23][0]                    \n",
      "                                                                 lstm_1[24][0]                    \n",
      "                                                                 lstm_1[25][0]                    \n",
      "                                                                 lstm_1[26][0]                    \n",
      "                                                                 lstm_1[27][0]                    \n",
      "                                                                 lstm_1[28][0]                    \n",
      "                                                                 lstm_1[29][0]                    \n",
      "                                                                 lstm_1[30][0]                    \n",
      "                                                                 lstm_1[31][0]                    \n",
      "                                                                 lstm_1[32][0]                    \n",
      "                                                                 lstm_1[33][0]                    \n",
      "                                                                 lstm_1[34][0]                    \n",
      "                                                                 lstm_1[35][0]                    \n",
      "                                                                 lstm_1[36][0]                    \n",
      "                                                                 lstm_1[37][0]                    \n",
      "                                                                 lstm_1[38][0]                    \n",
      "                                                                 lstm_1[39][0]                    \n",
      "                                                                 lstm_1[40][0]                    \n",
      "                                                                 lstm_1[41][0]                    \n",
      "                                                                 lstm_1[42][0]                    \n",
      "                                                                 lstm_1[43][0]                    \n",
      "                                                                 lstm_1[44][0]                    \n",
      "                                                                 lstm_1[45][0]                    \n",
      "                                                                 lstm_1[46][0]                    \n",
      "                                                                 lstm_1[47][0]                    \n",
      "                                                                 lstm_1[48][0]                    \n",
      "                                                                 lstm_1[49][0]                    \n",
      "__________________________________________________________________________________________________\n",
      "concatenate_2 (Concatenate)     (None, 50)           0           dense_3[0][0]                    \n",
      "                                                                 dense_3[1][0]                    \n",
      "                                                                 dense_3[2][0]                    \n",
      "                                                                 dense_3[3][0]                    \n",
      "                                                                 dense_3[4][0]                    \n",
      "                                                                 dense_3[5][0]                    \n",
      "                                                                 dense_3[6][0]                    \n",
      "                                                                 dense_3[7][0]                    \n",
      "                                                                 dense_3[8][0]                    \n",
      "                                                                 dense_3[9][0]                    \n",
      "                                                                 dense_3[10][0]                   \n",
      "                                                                 dense_3[11][0]                   \n",
      "                                                                 dense_3[12][0]                   \n",
      "                                                                 dense_3[13][0]                   \n",
      "                                                                 dense_3[14][0]                   \n",
      "                                                                 dense_3[15][0]                   \n",
      "                                                                 dense_3[16][0]                   \n",
      "                                                                 dense_3[17][0]                   \n",
      "                                                                 dense_3[18][0]                   \n",
      "                                                                 dense_3[19][0]                   \n",
      "                                                                 dense_3[20][0]                   \n",
      "                                                                 dense_3[21][0]                   \n",
      "                                                                 dense_3[22][0]                   \n",
      "                                                                 dense_3[23][0]                   \n",
      "                                                                 dense_3[24][0]                   \n",
      "                                                                 dense_3[25][0]                   \n",
      "                                                                 dense_3[26][0]                   \n",
      "                                                                 dense_3[27][0]                   \n",
      "                                                                 dense_3[28][0]                   \n",
      "                                                                 dense_3[29][0]                   \n",
      "                                                                 dense_3[30][0]                   \n",
      "                                                                 dense_3[31][0]                   \n",
      "                                                                 dense_3[32][0]                   \n",
      "                                                                 dense_3[33][0]                   \n",
      "                                                                 dense_3[34][0]                   \n",
      "                                                                 dense_3[35][0]                   \n",
      "                                                                 dense_3[36][0]                   \n",
      "                                                                 dense_3[37][0]                   \n",
      "                                                                 dense_3[38][0]                   \n",
      "                                                                 dense_3[39][0]                   \n",
      "                                                                 dense_3[40][0]                   \n",
      "                                                                 dense_3[41][0]                   \n",
      "                                                                 dense_3[42][0]                   \n",
      "                                                                 dense_3[43][0]                   \n",
      "                                                                 dense_3[44][0]                   \n",
      "                                                                 dense_3[45][0]                   \n",
      "                                                                 dense_3[46][0]                   \n",
      "                                                                 dense_3[47][0]                   \n",
      "                                                                 dense_3[48][0]                   \n",
      "                                                                 dense_3[49][0]                   \n",
      "==================================================================================================\n",
      "Total params: 11,574\n",
      "Trainable params: 11,574\n",
      "Non-trainable params: 0\n",
      "__________________________________________________________________________________________________\n"
     ]
    }
   ],
   "source": [
    "model_encoder.summary()"
   ]
  },
  {
   "cell_type": "code",
   "execution_count": 36,
   "metadata": {},
   "outputs": [],
   "source": [
    "opt = Adam(lr=0.005, beta_1=0.9, beta_2=0.999, decay=0.01)\n",
    "model_encoder.compile(opt, loss='mean_squared_error')"
   ]
  },
  {
   "cell_type": "code",
   "execution_count": 37,
   "metadata": {},
   "outputs": [],
   "source": [
    "#s0 = np.zeros((m, n_s))\n",
    "#c0 = np.zeros((m, n_s))\n",
    "\n",
    "s0 = np.random.randn(m, n_s)\n",
    "c0 = np.random.randn(m, n_s)"
   ]
  },
  {
   "cell_type": "code",
   "execution_count": 38,
   "metadata": {},
   "outputs": [
    {
     "data": {
      "text/plain": [
       "(19, 50)"
      ]
     },
     "execution_count": 38,
     "metadata": {},
     "output_type": "execute_result"
    }
   ],
   "source": [
    "target_list.shape"
   ]
  },
  {
   "cell_type": "code",
   "execution_count": 47,
   "metadata": {},
   "outputs": [
    {
     "name": "stdout",
     "output_type": "stream",
     "text": [
      "Epoch 1/10\n",
      "19/19 [==============================] - 34s 2s/step - loss: 189527.5000\n",
      "Epoch 2/10\n",
      "19/19 [==============================] - 0s 22ms/step - loss: 189516.3906\n",
      "Epoch 3/10\n",
      "19/19 [==============================] - 0s 21ms/step - loss: 189505.0469\n",
      "Epoch 4/10\n",
      "19/19 [==============================] - 0s 21ms/step - loss: 189493.7969\n",
      "Epoch 5/10\n",
      "19/19 [==============================] - 0s 21ms/step - loss: 189482.2031\n",
      "Epoch 6/10\n",
      "19/19 [==============================] - 0s 22ms/step - loss: 189470.4531\n",
      "Epoch 7/10\n",
      "19/19 [==============================] - 0s 21ms/step - loss: 189458.1250\n",
      "Epoch 8/10\n",
      "19/19 [==============================] - 0s 20ms/step - loss: 189445.8281\n",
      "Epoch 9/10\n",
      "19/19 [==============================] - 0s 22ms/step - loss: 189433.6094\n",
      "Epoch 10/10\n",
      "19/19 [==============================] - 0s 21ms/step - loss: 189421.5000\n"
     ]
    },
    {
     "data": {
      "text/plain": [
       "<keras.callbacks.History at 0x1442964a8>"
      ]
     },
     "execution_count": 47,
     "metadata": {},
     "output_type": "execute_result"
    }
   ],
   "source": [
    "model_encoder.fit([data_for_dl, s0, c0], target_list, epochs=10, batch_size=64)"
   ]
  },
  {
   "cell_type": "code",
   "execution_count": 48,
   "metadata": {},
   "outputs": [
    {
     "name": "stdout",
     "output_type": "stream",
     "text": [
      "\r",
      "19/19 [==============================] - 5s 237ms/step\n"
     ]
    },
    {
     "data": {
      "text/plain": [
       "189408.3125"
      ]
     },
     "execution_count": 48,
     "metadata": {},
     "output_type": "execute_result"
    }
   ],
   "source": [
    "model_encoder.evaluate([data_for_dl, s0, c0], target_list)"
   ]
  },
  {
   "cell_type": "code",
   "execution_count": 49,
   "metadata": {},
   "outputs": [
    {
     "data": {
      "text/plain": [
       "array([452., 479., 101., 465., 514., 482., 108., 400., 471., 504., 515.,\n",
       "       500., 463., 471., 478.,  88., 502., 503., 106., 459., 446., 519.,\n",
       "       496., 509., 487., 528., 454., 114., 498., 495.,  92., 500., 466.,\n",
       "       470., 105., 512., 472., 470., 487., 515., 488., 499., 103., 517.,\n",
       "       503., 514., 459.,  90.,  95., 509.])"
      ]
     },
     "execution_count": 49,
     "metadata": {},
     "output_type": "execute_result"
    }
   ],
   "source": [
    "target_list[0]"
   ]
  },
  {
   "cell_type": "code",
   "execution_count": 50,
   "metadata": {},
   "outputs": [
    {
     "data": {
      "text/plain": [
       "array([0.01328393, 0.00234323, 0.0007984 , 0.00058817, 0.00055968,\n",
       "       0.00055581, 0.00055527, 0.00055527, 0.00055521, 0.00055521,\n",
       "       0.00055521, 0.00055521, 0.00055521, 0.00055521, 0.00055521,\n",
       "       0.00055521, 0.00055521, 0.00055521, 0.00055521, 0.00055521,\n",
       "       0.00055521, 0.00055521, 0.00055521, 0.00055521, 0.00055521,\n",
       "       0.00055521, 0.00055521, 0.00055521, 0.00055521, 0.00055521,\n",
       "       0.00055521, 0.00055521, 0.00055521, 0.00055521, 0.00055521,\n",
       "       0.00055521, 0.00055521, 0.00055521, 0.00055521, 0.00055521,\n",
       "       0.00055521, 0.00055521, 0.00055521, 0.00055521, 0.00055521,\n",
       "       0.00055521, 0.00055521, 0.00055521, 0.00055521, 0.00055521],\n",
       "      dtype=float32)"
      ]
     },
     "execution_count": 50,
     "metadata": {},
     "output_type": "execute_result"
    }
   ],
   "source": [
    "model_encoder.predict([data_for_dl, s0, c0])[0]"
   ]
  },
  {
   "cell_type": "markdown",
   "metadata": {},
   "source": [
    "### Create decoder"
   ]
  },
  {
   "cell_type": "code",
   "execution_count": 51,
   "metadata": {},
   "outputs": [],
   "source": [
    "Ty = 287\n",
    "Tx = 50"
   ]
  },
  {
   "cell_type": "code",
   "execution_count": 52,
   "metadata": {},
   "outputs": [],
   "source": [
    "# Defined shared layers as global variables\n",
    "repeator_decoder = RepeatVector(Tx)\n",
    "concatenator_decoder = Concatenate(axis=-1)\n",
    "densor1_decoder = Dense(10, activation = \"relu\")\n",
    "densor2_decoder = Dense(1, activation = \"relu\")\n",
    "activator_decoder = Activation(softmax, name='attention_weights') # We are using a custom softmax(axis = 1) loaded in this notebook\n",
    "dotor_decoder = Dot(axes = 1)"
   ]
  },
  {
   "cell_type": "code",
   "execution_count": 53,
   "metadata": {},
   "outputs": [],
   "source": [
    "def one_step_attention_decoder(a, s_prev):\n",
    "    \"\"\"\n",
    "    Performs one step of attention: Outputs a context vector computed as a dot product of the attention weights\n",
    "    \"alphas\" and the hidden states \"a\" of the Bi-LSTM.\n",
    "    \n",
    "    Arguments:\n",
    "    a -- hidden state output of the Bi-LSTM, numpy-array of shape (m, Tx, 2*n_a)\n",
    "    s_prev -- previous hidden state of the (post-attention) LSTM, numpy-array of shape (m, n_s)\n",
    "    \n",
    "    Returns:\n",
    "    context -- context vector, input of the next (post-attetion) LSTM cell\n",
    "    \"\"\"\n",
    "    \n",
    "    # Use repeator to repeat s_prev to be of shape (m, Tx, n_s) so that you can concatenate it with all hidden states \"a\" (≈ 1 line)\n",
    "    s_prev = repeator_decoder(s_prev)\n",
    "    # Use concatenator to concatenate a and s_prev on the last axis (≈ 1 line)\n",
    "    concat = concatenator_decoder([a,s_prev])\n",
    "    # Use densor1 to propagate concat through a small fully-connected neural network to compute the \"intermediate energies\" variable e. (≈1 lines)\n",
    "    e = densor1_decoder(concat)\n",
    "    # Use densor2 to propagate e through a small fully-connected neural network to compute the \"energies\" variable energies. (≈1 lines)\n",
    "    e = densor2_decoder(e)\n",
    "    # Use \"activator\" on \"energies\" to compute the attention weights \"alphas\" (≈ 1 line)\n",
    "    alphas = activator_decoder(e)\n",
    "    # Use dotor together with \"alphas\" and \"a\" to compute the context vector to be given to the next (post-attention) LSTM-cell (≈ 1 line)\n",
    "    context = dotor_decoder([alphas,a])\n",
    "    \n",
    "    return context"
   ]
  },
  {
   "cell_type": "code",
   "execution_count": 54,
   "metadata": {},
   "outputs": [],
   "source": [
    "n_a = 16\n",
    "n_s = 32\n",
    "m = 19\n",
    "post_activation_LSTM_cell_decoder = LSTM(n_s, return_state = True)\n",
    "output_layer_decoder = Dense(1, activation='relu')"
   ]
  },
  {
   "cell_type": "code",
   "execution_count": 55,
   "metadata": {},
   "outputs": [],
   "source": [
    "def model_decoder(Tx, Ty, n_a, n_s):\n",
    "    \"\"\"\n",
    "    Arguments:\n",
    "    Tx -- length of the input sequence\n",
    "    Ty -- length of the output sequence\n",
    "    n_a -- hidden state size of the Bi-LSTM\n",
    "    n_s -- hidden state size of the post-attention LSTM\n",
    "    human_vocab_size -- size of the python dictionary \"human_vocab\"\n",
    "    machine_vocab_size -- size of the python dictionary \"machine_vocab\"\n",
    "\n",
    "    Returns:\n",
    "    model -- Keras model instance\n",
    "    \"\"\"\n",
    "    \n",
    "    # Define the inputs of your model with a shape (Tx,)\n",
    "    # Define s0 and c0, initial hidden state for the decoder LSTM of shape (n_s,)\n",
    "    X_decoder = Input(shape=(Tx,1), name='X_decoder')\n",
    "    s0_decoder = Input(shape=(n_s,), name='s0_decoder')\n",
    "    c0_decoder = Input(shape=(n_s,), name='c0_decoder')\n",
    "    s = s0_decoder\n",
    "    c = c0_decoder\n",
    "    \n",
    "    # Initialize empty list of outputs\n",
    "    outputs = []\n",
    "\n",
    "    # Step 1: Define your pre-attention Bi-LSTM. Remember to use return_sequences=True. (≈ 1 line)\n",
    "    a_decoder = Bidirectional(LSTM(n_a,return_sequences=True))(X_decoder)\n",
    "    \n",
    "    # Step 2: Iterate for Ty steps\n",
    "    for t in range(Ty):\n",
    "    \n",
    "        # Step 2.A: Perform one step of the attention mechanism to get back the context vector at step t (≈ 1 line)\n",
    "        context = one_step_attention_decoder(a_decoder, s)\n",
    "        \n",
    "        # Step 2.B: Apply the post-attention LSTM cell to the \"context\" vector.\n",
    "        # Don't forget to pass: initial_state = [hidden state, cell state] (≈ 1 line)\n",
    "        s, _, c = post_activation_LSTM_cell_decoder(context, initial_state = [s, c])\n",
    "        \n",
    "        # Step 2.C: Apply Dense layer to the hidden state output of the post-attention LSTM (≈ 1 line)\n",
    "        out = output_layer_decoder(s)\n",
    "        \n",
    "        # Step 2.D: Append \"out\" to the \"outputs\" list (≈ 1 line)\n",
    "        outputs.append(out)\n",
    "    \n",
    "    final_output = Concatenate(axis=-1)(outputs)\n",
    "    \n",
    "    # Step 3: Create model instance taking three inputs and returning the list of outputs. (≈ 1 line)\n",
    "    model = Model(inputs=[X_decoder, s0_decoder, c0_decoder], outputs=final_output)\n",
    "    \n",
    "    return model"
   ]
  },
  {
   "cell_type": "code",
   "execution_count": 56,
   "metadata": {},
   "outputs": [],
   "source": [
    "model_decoder = model_decoder(Tx, Ty, n_a, n_s)"
   ]
  },
  {
   "cell_type": "code",
   "execution_count": 57,
   "metadata": {},
   "outputs": [],
   "source": [
    "opt = Adam(lr=0.02, beta_1=0.9, beta_2=0.999, decay=0.01)\n",
    "model_decoder.compile(opt, loss='mean_squared_error')"
   ]
  },
  {
   "cell_type": "code",
   "execution_count": 58,
   "metadata": {},
   "outputs": [],
   "source": [
    "target_list = target_list.reshape((19,50,1))\n",
    "data_for_dl2 = data_for_dl[:,:,0]"
   ]
  },
  {
   "cell_type": "code",
   "execution_count": 59,
   "metadata": {},
   "outputs": [
    {
     "data": {
      "text/plain": [
       "(19, 287)"
      ]
     },
     "execution_count": 59,
     "metadata": {},
     "output_type": "execute_result"
    }
   ],
   "source": [
    "data_for_dl2.shape"
   ]
  },
  {
   "cell_type": "code",
   "execution_count": 60,
   "metadata": {},
   "outputs": [
    {
     "name": "stdout",
     "output_type": "stream",
     "text": [
      "Epoch 1/10\n",
      "19/19 [==============================] - 425s 22s/step - loss: 205728.8438\n",
      "Epoch 2/10\n",
      "19/19 [==============================] - 1s 29ms/step - loss: 205195.9844\n",
      "Epoch 3/10\n",
      "19/19 [==============================] - 1s 29ms/step - loss: 204632.4844\n",
      "Epoch 4/10\n",
      "19/19 [==============================] - 1s 30ms/step - loss: 204491.7969\n",
      "Epoch 5/10\n",
      "19/19 [==============================] - 1s 29ms/step - loss: 204348.2969\n",
      "Epoch 6/10\n",
      "19/19 [==============================] - 1s 29ms/step - loss: 204110.2344\n",
      "Epoch 7/10\n",
      "19/19 [==============================] - 1s 29ms/step - loss: 204261.3125\n",
      "Epoch 8/10\n",
      "19/19 [==============================] - 1s 29ms/step - loss: 204108.4062\n",
      "Epoch 9/10\n",
      "19/19 [==============================] - 1s 30ms/step - loss: 203975.3125\n",
      "Epoch 10/10\n",
      "19/19 [==============================] - 1s 29ms/step - loss: 203842.2031\n"
     ]
    },
    {
     "data": {
      "text/plain": [
       "<keras.callbacks.History at 0x18a743630>"
      ]
     },
     "execution_count": 60,
     "metadata": {},
     "output_type": "execute_result"
    }
   ],
   "source": [
    "model_decoder.fit([target_list, s0, c0], data_for_dl2, epochs=10, batch_size=64)"
   ]
  },
  {
   "cell_type": "code",
   "execution_count": null,
   "metadata": {},
   "outputs": [],
   "source": []
  }
 ],
 "metadata": {
  "kernelspec": {
   "display_name": "Python 3",
   "language": "python",
   "name": "python3"
  },
  "language_info": {
   "codemirror_mode": {
    "name": "ipython",
    "version": 3
   },
   "file_extension": ".py",
   "mimetype": "text/x-python",
   "name": "python",
   "nbconvert_exporter": "python",
   "pygments_lexer": "ipython3",
   "version": "3.6.5"
  }
 },
 "nbformat": 4,
 "nbformat_minor": 2
}
